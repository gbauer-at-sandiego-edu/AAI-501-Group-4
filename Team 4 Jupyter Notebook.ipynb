{
 "cells": [
  {
   "cell_type": "markdown",
   "id": "489c54",
   "metadata": {
    "collapsed": false
   },
   "source": [
    "**IN THE FOLLOWING SECTION, WE'LL APPLY THE LEARNINGS FROM THE MODULE 4 ASSIGNMENT OF OUR COURSE TO OUR GROUP PROJECT DATASET.**\n"
   ]
  },
  {
   "cell_type": "markdown",
   "id": "29586a",
   "metadata": {
    "collapsed": false
   },
   "source": [
    "To start, we'll import all the libraries that we may or may not need to perform our analysis:"
   ]
  },
  {
   "cell_type": "code",
   "execution_count": 3,
   "id": "520cdf",
   "metadata": {
    "collapsed": false
   },
   "outputs": [
   ],
   "source": [
    "import pandas as pd\n",
    "import matplotlib.pyplot as plt\n",
    "import numpy as np\n",
    "from sklearn import svm, tree\n",
    "from sklearn.model_selection import train_test_split\n",
    "from sklearn.metrics import accuracy_score, mean_squared_error\n",
    "from sklearn.preprocessing import StandardScaler"
   ]
  },
  {
   "cell_type": "markdown",
   "id": "4efc24",
   "metadata": {
    "collapsed": false
   },
   "source": [
    "Then we'll import our dataset, and take a look at it:"
   ]
  },
  {
   "cell_type": "code",
   "execution_count": 4,
   "id": "c6a357",
   "metadata": {
    "collapsed": false
   },
   "outputs": [
    {
     "data": {
      "text/html": [
       "<div>\n",
       "<style scoped>\n",
       "    .dataframe tbody tr th:only-of-type {\n",
       "        vertical-align: middle;\n",
       "    }\n",
       "\n",
       "    .dataframe tbody tr th {\n",
       "        vertical-align: top;\n",
       "    }\n",
       "\n",
       "    .dataframe thead th {\n",
       "        text-align: right;\n",
       "    }\n",
       "</style>\n",
       "<table border=\"1\" class=\"dataframe\">\n",
       "  <thead>\n",
       "    <tr style=\"text-align: right;\">\n",
       "      <th></th>\n",
       "      <th>Timestamp</th>\n",
       "      <th>FRUITS_VEGGIES</th>\n",
       "      <th>DAILY_STRESS</th>\n",
       "      <th>PLACES_VISITED</th>\n",
       "      <th>CORE_CIRCLE</th>\n",
       "      <th>SUPPORTING_OTHERS</th>\n",
       "      <th>SOCIAL_NETWORK</th>\n",
       "      <th>ACHIEVEMENT</th>\n",
       "      <th>DONATION</th>\n",
       "      <th>BMI_RANGE</th>\n",
       "      <th>...</th>\n",
       "      <th>SLEEP_HOURS</th>\n",
       "      <th>LOST_VACATION</th>\n",
       "      <th>DAILY_SHOUTING</th>\n",
       "      <th>SUFFICIENT_INCOME</th>\n",
       "      <th>PERSONAL_AWARDS</th>\n",
       "      <th>TIME_FOR_PASSION</th>\n",
       "      <th>WEEKLY_MEDITATION</th>\n",
       "      <th>AGE</th>\n",
       "      <th>GENDER</th>\n",
       "      <th>WORK_LIFE_BALANCE_SCORE</th>\n",
       "    </tr>\n",
       "  </thead>\n",
       "  <tbody>\n",
       "    <tr>\n",
       "      <th>0</th>\n",
       "      <td>7/7/15</td>\n",
       "      <td>3</td>\n",
       "      <td>2</td>\n",
       "      <td>2</td>\n",
       "      <td>5</td>\n",
       "      <td>0</td>\n",
       "      <td>5</td>\n",
       "      <td>2</td>\n",
       "      <td>0</td>\n",
       "      <td>1</td>\n",
       "      <td>...</td>\n",
       "      <td>7</td>\n",
       "      <td>5</td>\n",
       "      <td>5</td>\n",
       "      <td>1</td>\n",
       "      <td>4</td>\n",
       "      <td>0</td>\n",
       "      <td>5</td>\n",
       "      <td>36 to 50</td>\n",
       "      <td>Female</td>\n",
       "      <td>609.5</td>\n",
       "    </tr>\n",
       "    <tr>\n",
       "      <th>1</th>\n",
       "      <td>7/7/15</td>\n",
       "      <td>2</td>\n",
       "      <td>3</td>\n",
       "      <td>4</td>\n",
       "      <td>3</td>\n",
       "      <td>8</td>\n",
       "      <td>10</td>\n",
       "      <td>5</td>\n",
       "      <td>2</td>\n",
       "      <td>2</td>\n",
       "      <td>...</td>\n",
       "      <td>8</td>\n",
       "      <td>2</td>\n",
       "      <td>2</td>\n",
       "      <td>2</td>\n",
       "      <td>3</td>\n",
       "      <td>2</td>\n",
       "      <td>6</td>\n",
       "      <td>36 to 50</td>\n",
       "      <td>Female</td>\n",
       "      <td>655.6</td>\n",
       "    </tr>\n",
       "    <tr>\n",
       "      <th>2</th>\n",
       "      <td>7/7/15</td>\n",
       "      <td>2</td>\n",
       "      <td>3</td>\n",
       "      <td>3</td>\n",
       "      <td>4</td>\n",
       "      <td>4</td>\n",
       "      <td>10</td>\n",
       "      <td>3</td>\n",
       "      <td>2</td>\n",
       "      <td>2</td>\n",
       "      <td>...</td>\n",
       "      <td>8</td>\n",
       "      <td>10</td>\n",
       "      <td>2</td>\n",
       "      <td>2</td>\n",
       "      <td>4</td>\n",
       "      <td>8</td>\n",
       "      <td>3</td>\n",
       "      <td>36 to 50</td>\n",
       "      <td>Female</td>\n",
       "      <td>631.6</td>\n",
       "    </tr>\n",
       "    <tr>\n",
       "      <th>3</th>\n",
       "      <td>7/7/15</td>\n",
       "      <td>3</td>\n",
       "      <td>3</td>\n",
       "      <td>10</td>\n",
       "      <td>3</td>\n",
       "      <td>10</td>\n",
       "      <td>7</td>\n",
       "      <td>2</td>\n",
       "      <td>5</td>\n",
       "      <td>2</td>\n",
       "      <td>...</td>\n",
       "      <td>5</td>\n",
       "      <td>7</td>\n",
       "      <td>5</td>\n",
       "      <td>1</td>\n",
       "      <td>5</td>\n",
       "      <td>2</td>\n",
       "      <td>0</td>\n",
       "      <td>51 or more</td>\n",
       "      <td>Female</td>\n",
       "      <td>622.7</td>\n",
       "    </tr>\n",
       "    <tr>\n",
       "      <th>4</th>\n",
       "      <td>7/7/15</td>\n",
       "      <td>5</td>\n",
       "      <td>1</td>\n",
       "      <td>3</td>\n",
       "      <td>3</td>\n",
       "      <td>10</td>\n",
       "      <td>4</td>\n",
       "      <td>2</td>\n",
       "      <td>4</td>\n",
       "      <td>2</td>\n",
       "      <td>...</td>\n",
       "      <td>7</td>\n",
       "      <td>0</td>\n",
       "      <td>0</td>\n",
       "      <td>2</td>\n",
       "      <td>8</td>\n",
       "      <td>1</td>\n",
       "      <td>5</td>\n",
       "      <td>51 or more</td>\n",
       "      <td>Female</td>\n",
       "      <td>663.9</td>\n",
       "    </tr>\n",
       "  </tbody>\n",
       "</table>\n",
       "<p>5 rows × 24 columns</p>\n",
       "</div>"
      ],
      "text/plain": [
       "  Timestamp  FRUITS_VEGGIES DAILY_STRESS  PLACES_VISITED  CORE_CIRCLE  \\\n",
       "0    7/7/15               3            2               2            5   \n",
       "1    7/7/15               2            3               4            3   \n",
       "2    7/7/15               2            3               3            4   \n",
       "3    7/7/15               3            3              10            3   \n",
       "4    7/7/15               5            1               3            3   \n",
       "\n",
       "   SUPPORTING_OTHERS  SOCIAL_NETWORK  ACHIEVEMENT  DONATION  BMI_RANGE  ...  \\\n",
       "0                  0               5            2         0          1  ...   \n",
       "1                  8              10            5         2          2  ...   \n",
       "2                  4              10            3         2          2  ...   \n",
       "3                 10               7            2         5          2  ...   \n",
       "4                 10               4            2         4          2  ...   \n",
       "\n",
       "   SLEEP_HOURS  LOST_VACATION  DAILY_SHOUTING  SUFFICIENT_INCOME  \\\n",
       "0            7              5               5                  1   \n",
       "1            8              2               2                  2   \n",
       "2            8             10               2                  2   \n",
       "3            5              7               5                  1   \n",
       "4            7              0               0                  2   \n",
       "\n",
       "   PERSONAL_AWARDS  TIME_FOR_PASSION  WEEKLY_MEDITATION         AGE  GENDER  \\\n",
       "0                4                 0                  5    36 to 50  Female   \n",
       "1                3                 2                  6    36 to 50  Female   \n",
       "2                4                 8                  3    36 to 50  Female   \n",
       "3                5                 2                  0  51 or more  Female   \n",
       "4                8                 1                  5  51 or more  Female   \n",
       "\n",
       "   WORK_LIFE_BALANCE_SCORE  \n",
       "0                    609.5  \n",
       "1                    655.6  \n",
       "2                    631.6  \n",
       "3                    622.7  \n",
       "4                    663.9  \n",
       "\n",
       "[5 rows x 24 columns]"
      ]
     },
     "execution_count": 4,
     "metadata": {
     },
     "output_type": "execute_result"
    }
   ],
   "source": [
    "# Loading the dataset\n",
    "balance = pd.read_csv('Wellbeing_and_lifestyle_data_Kaggle.csv')\n",
    "balance.head()"
   ]
  },
  {
   "cell_type": "markdown",
   "id": "38a91a",
   "metadata": {
    "collapsed": false
   },
   "source": [
    "A preliminary investigation reveals a few columns that will need to be prepped for our analysis:\n",
    "\n",
    "- Timestamp is irrevelant for our purposes, and can be dropped altogether.\n",
    "- Age Range should be cleaned up by converting each range category to a numerical value: Less than 20 = 1, 21 to 35 = 2, 36 to 50 = 3, 51 or more = 4 \n",
    "- Gender can also be made numerical in the same way, we'll assign 0 = Female, 1 = Male.\n",
    "- Row 10007 \\(index 10005\\) contains a date\\-formatted entry for the DAILY\\_STRESS column.  Since we don't know what that value should actually be, we'll drop the entire row as our sample size is large enough to not be impacted.\n",
    "- Work\\-life balance score is a calculated value, though we don't know how it is calculated.  We'll likely want to extract it so that it doesn't factor into our model's initial training, similar to how the \"Region\" column was excluded in the Module 4 assignment. We can then use it for testing or training our predictions at a later time.  Similar to Module 4, we'll assign \"x\" as the dataframe with the variables, and \"y\" as the dataframe with the actual results. \n",
    "\n"
   ]
  },
  {
   "cell_type": "code",
   "execution_count": 5,
   "id": "43fb0d",
   "metadata": {
    "collapsed": false
   },
   "outputs": [
    {
     "name": "stdout",
     "output_type": "stream",
     "text": [
      "Shape of x: (15971, 22)\n",
      "Shape of y: (15971,)\n"
     ]
    }
   ],
   "source": [
    "# Dropping the Timestamp column\n",
    "balance = balance.drop(columns=['Timestamp'])\n",
    "\n",
    "# Replacing Age Ranges in the Age column\n",
    "balance['AGE'] = balance['AGE'].replace({\"Less than 20\": 1, \"21 to 35\": 2, \"36 to 50\": 3, \"51 or more\": 4})\n",
    "\n",
    "# Replacing \"Female\" with 0 and \"Male\" with 1 in the Gender column\n",
    "balance['GENDER'] = balance['GENDER'].replace({\"Female\": 0, \"Male\": 1})\n",
    "\n",
    "# Dropping index row 10005, which contains a non-numeric value\n",
    "balance = balance.drop(balance.index[10005])\n",
    "\n",
    "# Assigning x and y as the dataframes for variables and results\n",
    "x = balance.drop(columns=['WORK_LIFE_BALANCE_SCORE'])\n",
    "y = balance['WORK_LIFE_BALANCE_SCORE']\n",
    "\n",
    "\n",
    "# Printing the shape of x and y:\n",
    "print(\"Shape of x:\", x.shape)\n",
    "print(\"Shape of y:\", y.shape)"
   ]
  },
  {
   "cell_type": "markdown",
   "id": "b20b82",
   "metadata": {
    "collapsed": false
   },
   "source": [
    "The Work\\-Life balance score is a calculated field based on the prior entry in that row, but we don't know how that calculation is done.\n",
    "\n"
   ]
  },
  {
   "cell_type": "code",
   "execution_count": 6,
   "id": "1121d4",
   "metadata": {
    "collapsed": false
   },
   "outputs": [
    {
     "data": {
      "text/html": [
       "<div>\n",
       "<style scoped>\n",
       "    .dataframe tbody tr th:only-of-type {\n",
       "        vertical-align: middle;\n",
       "    }\n",
       "\n",
       "    .dataframe tbody tr th {\n",
       "        vertical-align: top;\n",
       "    }\n",
       "\n",
       "    .dataframe thead th {\n",
       "        text-align: right;\n",
       "    }\n",
       "</style>\n",
       "<table border=\"1\" class=\"dataframe\">\n",
       "  <thead>\n",
       "    <tr style=\"text-align: right;\">\n",
       "      <th></th>\n",
       "      <th>FRUITS_VEGGIES</th>\n",
       "      <th>DAILY_STRESS</th>\n",
       "      <th>PLACES_VISITED</th>\n",
       "      <th>CORE_CIRCLE</th>\n",
       "      <th>SUPPORTING_OTHERS</th>\n",
       "      <th>SOCIAL_NETWORK</th>\n",
       "      <th>ACHIEVEMENT</th>\n",
       "      <th>DONATION</th>\n",
       "      <th>BMI_RANGE</th>\n",
       "      <th>TODO_COMPLETED</th>\n",
       "      <th>...</th>\n",
       "      <th>LIVE_VISION</th>\n",
       "      <th>SLEEP_HOURS</th>\n",
       "      <th>LOST_VACATION</th>\n",
       "      <th>DAILY_SHOUTING</th>\n",
       "      <th>SUFFICIENT_INCOME</th>\n",
       "      <th>PERSONAL_AWARDS</th>\n",
       "      <th>TIME_FOR_PASSION</th>\n",
       "      <th>WEEKLY_MEDITATION</th>\n",
       "      <th>AGE</th>\n",
       "      <th>GENDER</th>\n",
       "    </tr>\n",
       "  </thead>\n",
       "  <tbody>\n",
       "    <tr>\n",
       "      <th>0</th>\n",
       "      <td>3</td>\n",
       "      <td>2</td>\n",
       "      <td>2</td>\n",
       "      <td>5</td>\n",
       "      <td>0</td>\n",
       "      <td>5</td>\n",
       "      <td>2</td>\n",
       "      <td>0</td>\n",
       "      <td>1</td>\n",
       "      <td>6</td>\n",
       "      <td>...</td>\n",
       "      <td>0</td>\n",
       "      <td>7</td>\n",
       "      <td>5</td>\n",
       "      <td>5</td>\n",
       "      <td>1</td>\n",
       "      <td>4</td>\n",
       "      <td>0</td>\n",
       "      <td>5</td>\n",
       "      <td>3</td>\n",
       "      <td>0</td>\n",
       "    </tr>\n",
       "    <tr>\n",
       "      <th>1</th>\n",
       "      <td>2</td>\n",
       "      <td>3</td>\n",
       "      <td>4</td>\n",
       "      <td>3</td>\n",
       "      <td>8</td>\n",
       "      <td>10</td>\n",
       "      <td>5</td>\n",
       "      <td>2</td>\n",
       "      <td>2</td>\n",
       "      <td>5</td>\n",
       "      <td>...</td>\n",
       "      <td>5</td>\n",
       "      <td>8</td>\n",
       "      <td>2</td>\n",
       "      <td>2</td>\n",
       "      <td>2</td>\n",
       "      <td>3</td>\n",
       "      <td>2</td>\n",
       "      <td>6</td>\n",
       "      <td>3</td>\n",
       "      <td>0</td>\n",
       "    </tr>\n",
       "    <tr>\n",
       "      <th>2</th>\n",
       "      <td>2</td>\n",
       "      <td>3</td>\n",
       "      <td>3</td>\n",
       "      <td>4</td>\n",
       "      <td>4</td>\n",
       "      <td>10</td>\n",
       "      <td>3</td>\n",
       "      <td>2</td>\n",
       "      <td>2</td>\n",
       "      <td>2</td>\n",
       "      <td>...</td>\n",
       "      <td>5</td>\n",
       "      <td>8</td>\n",
       "      <td>10</td>\n",
       "      <td>2</td>\n",
       "      <td>2</td>\n",
       "      <td>4</td>\n",
       "      <td>8</td>\n",
       "      <td>3</td>\n",
       "      <td>3</td>\n",
       "      <td>0</td>\n",
       "    </tr>\n",
       "    <tr>\n",
       "      <th>3</th>\n",
       "      <td>3</td>\n",
       "      <td>3</td>\n",
       "      <td>10</td>\n",
       "      <td>3</td>\n",
       "      <td>10</td>\n",
       "      <td>7</td>\n",
       "      <td>2</td>\n",
       "      <td>5</td>\n",
       "      <td>2</td>\n",
       "      <td>3</td>\n",
       "      <td>...</td>\n",
       "      <td>0</td>\n",
       "      <td>5</td>\n",
       "      <td>7</td>\n",
       "      <td>5</td>\n",
       "      <td>1</td>\n",
       "      <td>5</td>\n",
       "      <td>2</td>\n",
       "      <td>0</td>\n",
       "      <td>4</td>\n",
       "      <td>0</td>\n",
       "    </tr>\n",
       "    <tr>\n",
       "      <th>4</th>\n",
       "      <td>5</td>\n",
       "      <td>1</td>\n",
       "      <td>3</td>\n",
       "      <td>3</td>\n",
       "      <td>10</td>\n",
       "      <td>4</td>\n",
       "      <td>2</td>\n",
       "      <td>4</td>\n",
       "      <td>2</td>\n",
       "      <td>5</td>\n",
       "      <td>...</td>\n",
       "      <td>0</td>\n",
       "      <td>7</td>\n",
       "      <td>0</td>\n",
       "      <td>0</td>\n",
       "      <td>2</td>\n",
       "      <td>8</td>\n",
       "      <td>1</td>\n",
       "      <td>5</td>\n",
       "      <td>4</td>\n",
       "      <td>0</td>\n",
       "    </tr>\n",
       "  </tbody>\n",
       "</table>\n",
       "<p>5 rows × 22 columns</p>\n",
       "</div>"
      ],
      "text/plain": [
       "   FRUITS_VEGGIES DAILY_STRESS  PLACES_VISITED  CORE_CIRCLE  \\\n",
       "0               3            2               2            5   \n",
       "1               2            3               4            3   \n",
       "2               2            3               3            4   \n",
       "3               3            3              10            3   \n",
       "4               5            1               3            3   \n",
       "\n",
       "   SUPPORTING_OTHERS  SOCIAL_NETWORK  ACHIEVEMENT  DONATION  BMI_RANGE  \\\n",
       "0                  0               5            2         0          1   \n",
       "1                  8              10            5         2          2   \n",
       "2                  4              10            3         2          2   \n",
       "3                 10               7            2         5          2   \n",
       "4                 10               4            2         4          2   \n",
       "\n",
       "   TODO_COMPLETED  ...  LIVE_VISION  SLEEP_HOURS  LOST_VACATION  \\\n",
       "0               6  ...            0            7              5   \n",
       "1               5  ...            5            8              2   \n",
       "2               2  ...            5            8             10   \n",
       "3               3  ...            0            5              7   \n",
       "4               5  ...            0            7              0   \n",
       "\n",
       "   DAILY_SHOUTING  SUFFICIENT_INCOME  PERSONAL_AWARDS  TIME_FOR_PASSION  \\\n",
       "0               5                  1                4                 0   \n",
       "1               2                  2                3                 2   \n",
       "2               2                  2                4                 8   \n",
       "3               5                  1                5                 2   \n",
       "4               0                  2                8                 1   \n",
       "\n",
       "   WEEKLY_MEDITATION  AGE  GENDER  \n",
       "0                  5    3       0  \n",
       "1                  6    3       0  \n",
       "2                  3    3       0  \n",
       "3                  0    4       0  \n",
       "4                  5    4       0  \n",
       "\n",
       "[5 rows x 22 columns]"
      ]
     },
     "execution_count": 6,
     "metadata": {
     },
     "output_type": "execute_result"
    }
   ],
   "source": [
    "# Taking a look at x, to confirm everything looks as intended:\n",
    "x.head()"
   ]
  },
  {
   "cell_type": "code",
   "execution_count": 7,
   "id": "cb7b17",
   "metadata": {
    "collapsed": false
   },
   "outputs": [
    {
     "name": "stdout",
     "output_type": "stream",
     "text": [
      "Column 1: Mean = -0.000000, Std Dev = 1.000031\n",
      "Column 2: Mean = 0.000000, Std Dev = 1.000031\n",
      "Column 3: Mean = -0.000000, Std Dev = 1.000031\n",
      "Column 4: Mean = 0.000000, Std Dev = 1.000031\n",
      "Column 5: Mean = 0.000000, Std Dev = 1.000031\n",
      "Column 6: Mean = 0.000000, Std Dev = 1.000031\n",
      "Column 7: Mean = 0.000000, Std Dev = 1.000031\n",
      "Column 8: Mean = -0.000000, Std Dev = 1.000031\n",
      "Column 9: Mean = -0.000000, Std Dev = 1.000031\n",
      "Column 10: Mean = 0.000000, Std Dev = 1.000031\n",
      "Column 11: Mean = 0.000000, Std Dev = 1.000031\n",
      "Column 12: Mean = -0.000000, Std Dev = 1.000031\n",
      "Column 13: Mean = 0.000000, Std Dev = 1.000031\n",
      "Column 14: Mean = -0.000000, Std Dev = 1.000031\n",
      "Column 15: Mean = -0.000000, Std Dev = 1.000031\n",
      "Column 16: Mean = -0.000000, Std Dev = 1.000031\n",
      "Column 17: Mean = 0.000000, Std Dev = 1.000031\n",
      "Column 18: Mean = 0.000000, Std Dev = 1.000031\n",
      "Column 19: Mean = -0.000000, Std Dev = 1.000031\n",
      "Column 20: Mean = 0.000000, Std Dev = 1.000031\n",
      "Column 21: Mean = 0.000000, Std Dev = 1.000031\n",
      "Column 22: Mean = -0.000000, Std Dev = 1.000031\n"
     ]
    },
    {
     "data": {
      "text/html": [
       "<div>\n",
       "<style scoped>\n",
       "    .dataframe tbody tr th:only-of-type {\n",
       "        vertical-align: middle;\n",
       "    }\n",
       "\n",
       "    .dataframe tbody tr th {\n",
       "        vertical-align: top;\n",
       "    }\n",
       "\n",
       "    .dataframe thead th {\n",
       "        text-align: right;\n",
       "    }\n",
       "</style>\n",
       "<table border=\"1\" class=\"dataframe\">\n",
       "  <thead>\n",
       "    <tr style=\"text-align: right;\">\n",
       "      <th></th>\n",
       "      <th>FRUITS_VEGGIES</th>\n",
       "      <th>DAILY_STRESS</th>\n",
       "      <th>PLACES_VISITED</th>\n",
       "      <th>CORE_CIRCLE</th>\n",
       "      <th>SUPPORTING_OTHERS</th>\n",
       "      <th>SOCIAL_NETWORK</th>\n",
       "      <th>ACHIEVEMENT</th>\n",
       "      <th>DONATION</th>\n",
       "      <th>BMI_RANGE</th>\n",
       "      <th>TODO_COMPLETED</th>\n",
       "      <th>...</th>\n",
       "      <th>LIVE_VISION</th>\n",
       "      <th>SLEEP_HOURS</th>\n",
       "      <th>LOST_VACATION</th>\n",
       "      <th>DAILY_SHOUTING</th>\n",
       "      <th>SUFFICIENT_INCOME</th>\n",
       "      <th>PERSONAL_AWARDS</th>\n",
       "      <th>TIME_FOR_PASSION</th>\n",
       "      <th>WEEKLY_MEDITATION</th>\n",
       "      <th>AGE</th>\n",
       "      <th>GENDER</th>\n",
       "    </tr>\n",
       "  </thead>\n",
       "  <tbody>\n",
       "    <tr>\n",
       "      <th>0</th>\n",
       "      <td>0.053599</td>\n",
       "      <td>-0.578819</td>\n",
       "      <td>-0.976294</td>\n",
       "      <td>-0.178965</td>\n",
       "      <td>-1.732407</td>\n",
       "      <td>-0.477572</td>\n",
       "      <td>-0.725985</td>\n",
       "      <td>-1.466473</td>\n",
       "      <td>-0.834683</td>\n",
       "      <td>0.096804</td>\n",
       "      <td>...</td>\n",
       "      <td>-1.161311</td>\n",
       "      <td>-0.035823</td>\n",
       "      <td>0.569258</td>\n",
       "      <td>0.773095</td>\n",
       "      <td>-1.63991</td>\n",
       "      <td>-0.553915</td>\n",
       "      <td>-1.218845</td>\n",
       "      <td>-0.408970</td>\n",
       "      <td>0.421337</td>\n",
       "      <td>-0.787468</td>\n",
       "    </tr>\n",
       "    <tr>\n",
       "      <th>1</th>\n",
       "      <td>-0.639548</td>\n",
       "      <td>0.152304</td>\n",
       "      <td>-0.372383</td>\n",
       "      <td>-0.883141</td>\n",
       "      <td>0.735331</td>\n",
       "      <td>1.142362</td>\n",
       "      <td>0.362618</td>\n",
       "      <td>-0.386266</td>\n",
       "      <td>1.198059</td>\n",
       "      <td>-0.284280</td>\n",
       "      <td>...</td>\n",
       "      <td>0.386206</td>\n",
       "      <td>0.798194</td>\n",
       "      <td>-0.243364</td>\n",
       "      <td>-0.347874</td>\n",
       "      <td>0.60979</td>\n",
       "      <td>-0.877598</td>\n",
       "      <td>-0.485987</td>\n",
       "      <td>-0.077447</td>\n",
       "      <td>0.421337</td>\n",
       "      <td>-0.787468</td>\n",
       "    </tr>\n",
       "    <tr>\n",
       "      <th>2</th>\n",
       "      <td>-0.639548</td>\n",
       "      <td>0.152304</td>\n",
       "      <td>-0.674338</td>\n",
       "      <td>-0.531053</td>\n",
       "      <td>-0.498538</td>\n",
       "      <td>1.142362</td>\n",
       "      <td>-0.363118</td>\n",
       "      <td>-0.386266</td>\n",
       "      <td>1.198059</td>\n",
       "      <td>-1.427530</td>\n",
       "      <td>...</td>\n",
       "      <td>0.386206</td>\n",
       "      <td>0.798194</td>\n",
       "      <td>1.923628</td>\n",
       "      <td>-0.347874</td>\n",
       "      <td>0.60979</td>\n",
       "      <td>-0.553915</td>\n",
       "      <td>1.712587</td>\n",
       "      <td>-1.072015</td>\n",
       "      <td>0.421337</td>\n",
       "      <td>-0.787468</td>\n",
       "    </tr>\n",
       "    <tr>\n",
       "      <th>3</th>\n",
       "      <td>0.053599</td>\n",
       "      <td>0.152304</td>\n",
       "      <td>1.439352</td>\n",
       "      <td>-0.883141</td>\n",
       "      <td>1.352265</td>\n",
       "      <td>0.170402</td>\n",
       "      <td>-0.725985</td>\n",
       "      <td>1.234043</td>\n",
       "      <td>1.198059</td>\n",
       "      <td>-1.046447</td>\n",
       "      <td>...</td>\n",
       "      <td>-1.161311</td>\n",
       "      <td>-1.703858</td>\n",
       "      <td>1.111006</td>\n",
       "      <td>0.773095</td>\n",
       "      <td>-1.63991</td>\n",
       "      <td>-0.230232</td>\n",
       "      <td>-0.485987</td>\n",
       "      <td>-2.066583</td>\n",
       "      <td>1.480214</td>\n",
       "      <td>-0.787468</td>\n",
       "    </tr>\n",
       "    <tr>\n",
       "      <th>4</th>\n",
       "      <td>1.439895</td>\n",
       "      <td>-1.309943</td>\n",
       "      <td>-0.674338</td>\n",
       "      <td>-0.883141</td>\n",
       "      <td>1.352265</td>\n",
       "      <td>-0.801558</td>\n",
       "      <td>-0.725985</td>\n",
       "      <td>0.693940</td>\n",
       "      <td>1.198059</td>\n",
       "      <td>-0.284280</td>\n",
       "      <td>...</td>\n",
       "      <td>-1.161311</td>\n",
       "      <td>-0.035823</td>\n",
       "      <td>-0.785113</td>\n",
       "      <td>-1.095186</td>\n",
       "      <td>0.60979</td>\n",
       "      <td>0.740817</td>\n",
       "      <td>-0.852416</td>\n",
       "      <td>-0.408970</td>\n",
       "      <td>1.480214</td>\n",
       "      <td>-0.787468</td>\n",
       "    </tr>\n",
       "  </tbody>\n",
       "</table>\n",
       "<p>5 rows × 22 columns</p>\n",
       "</div>"
      ],
      "text/plain": [
       "   FRUITS_VEGGIES  DAILY_STRESS  PLACES_VISITED  CORE_CIRCLE  \\\n",
       "0        0.053599     -0.578819       -0.976294    -0.178965   \n",
       "1       -0.639548      0.152304       -0.372383    -0.883141   \n",
       "2       -0.639548      0.152304       -0.674338    -0.531053   \n",
       "3        0.053599      0.152304        1.439352    -0.883141   \n",
       "4        1.439895     -1.309943       -0.674338    -0.883141   \n",
       "\n",
       "   SUPPORTING_OTHERS  SOCIAL_NETWORK  ACHIEVEMENT  DONATION  BMI_RANGE  \\\n",
       "0          -1.732407       -0.477572    -0.725985 -1.466473  -0.834683   \n",
       "1           0.735331        1.142362     0.362618 -0.386266   1.198059   \n",
       "2          -0.498538        1.142362    -0.363118 -0.386266   1.198059   \n",
       "3           1.352265        0.170402    -0.725985  1.234043   1.198059   \n",
       "4           1.352265       -0.801558    -0.725985  0.693940   1.198059   \n",
       "\n",
       "   TODO_COMPLETED  ...  LIVE_VISION  SLEEP_HOURS  LOST_VACATION  \\\n",
       "0        0.096804  ...    -1.161311    -0.035823       0.569258   \n",
       "1       -0.284280  ...     0.386206     0.798194      -0.243364   \n",
       "2       -1.427530  ...     0.386206     0.798194       1.923628   \n",
       "3       -1.046447  ...    -1.161311    -1.703858       1.111006   \n",
       "4       -0.284280  ...    -1.161311    -0.035823      -0.785113   \n",
       "\n",
       "   DAILY_SHOUTING  SUFFICIENT_INCOME  PERSONAL_AWARDS  TIME_FOR_PASSION  \\\n",
       "0        0.773095           -1.63991        -0.553915         -1.218845   \n",
       "1       -0.347874            0.60979        -0.877598         -0.485987   \n",
       "2       -0.347874            0.60979        -0.553915          1.712587   \n",
       "3        0.773095           -1.63991        -0.230232         -0.485987   \n",
       "4       -1.095186            0.60979         0.740817         -0.852416   \n",
       "\n",
       "   WEEKLY_MEDITATION       AGE    GENDER  \n",
       "0          -0.408970  0.421337 -0.787468  \n",
       "1          -0.077447  0.421337 -0.787468  \n",
       "2          -1.072015  0.421337 -0.787468  \n",
       "3          -2.066583  1.480214 -0.787468  \n",
       "4          -0.408970  1.480214 -0.787468  \n",
       "\n",
       "[5 rows x 22 columns]"
      ]
     },
     "execution_count": 7,
     "metadata": {
     },
     "output_type": "execute_result"
    }
   ],
   "source": [
    "# Creating a StandardScaler object\n",
    "scaler = StandardScaler()\n",
    "\n",
    "# Fitting the scaler to the dataframe x\n",
    "scaler.fit(x)\n",
    "\n",
    "# Transforming X to apply standardization\n",
    "x_scaled = scaler.transform(x)\n",
    "\n",
    "# Converting the scaled array back to a dataframe so as to calculate individual means and standard deviations\n",
    "x_scaled = pd.DataFrame(x_scaled, columns=x.columns)\n",
    "\n",
    "# Calculating the means and standard deviations for each column\n",
    "column_means = x_scaled.mean(axis=0)  \n",
    "column_stds = x_scaled.std(axis=0)   \n",
    "\n",
    "# Printing the means and std devs for each column, rounding to 6 digits\n",
    "for i, (mean, std) in enumerate(zip(column_means, column_stds)):\n",
    "    print(f\"Column {i+1}: Mean = {mean:.6f}, Std Dev = {std:.6f}\")\n",
    "\n",
    "# Peeking at the head of the new dataframe\n",
    "x_scaled.head()"
   ]
  },
  {
   "cell_type": "markdown",
   "id": "26ed78",
   "metadata": {
    "collapsed": false
   },
   "source": [
    "Now we can split the data out into Testing and Training sets, still using the strategy from  Assignment 4.1:\n",
    "\n"
   ]
  },
  {
   "cell_type": "code",
   "execution_count": 8,
   "id": "46e1b7",
   "metadata": {
    "collapsed": false
   },
   "outputs": [
    {
     "name": "stdout",
     "output_type": "stream",
     "text": [
      "Shape of x_train: (11978, 22)\n",
      "Shape of x_test: (3993, 22)\n",
      "Shape of y_train: (11978,)\n",
      "Shape of y_test: (3993,)\n"
     ]
    }
   ],
   "source": [
    "# Splitting the data into training and test sets\n",
    "x_train, x_test, y_train, y_test = train_test_split(x_scaled, y, random_state=0)\n",
    "\n",
    "# Printing the shapes of all four arrays\n",
    "print(\"Shape of x_train:\", x_train.shape)\n",
    "print(\"Shape of x_test:\", x_test.shape)\n",
    "print(\"Shape of y_train:\", y_train.shape)\n",
    "print(\"Shape of y_test:\", y_test.shape)"
   ]
  },
  {
   "cell_type": "markdown",
   "id": "f49f92",
   "metadata": {
    "collapsed": false
   },
   "source": [
    "We can then standardize them using the Scaler method from Assignment 4.1:\n"
   ]
  },
  {
   "cell_type": "code",
   "execution_count": 9,
   "id": "1f2dcc",
   "metadata": {
    "collapsed": false
   },
   "outputs": [
    {
     "name": "stdout",
     "output_type": "stream",
     "text": [
      "Column 1: Mean = -0.000000, Std Dev = 1.000031\n",
      "Column 2: Mean = 0.000000, Std Dev = 1.000031\n",
      "Column 3: Mean = -0.000000, Std Dev = 1.000031\n",
      "Column 4: Mean = 0.000000, Std Dev = 1.000031\n",
      "Column 5: Mean = 0.000000, Std Dev = 1.000031\n",
      "Column 6: Mean = 0.000000, Std Dev = 1.000031\n",
      "Column 7: Mean = 0.000000, Std Dev = 1.000031\n",
      "Column 8: Mean = -0.000000, Std Dev = 1.000031\n",
      "Column 9: Mean = -0.000000, Std Dev = 1.000031\n",
      "Column 10: Mean = 0.000000, Std Dev = 1.000031\n",
      "Column 11: Mean = 0.000000, Std Dev = 1.000031\n",
      "Column 12: Mean = -0.000000, Std Dev = 1.000031\n",
      "Column 13: Mean = 0.000000, Std Dev = 1.000031\n",
      "Column 14: Mean = -0.000000, Std Dev = 1.000031\n",
      "Column 15: Mean = -0.000000, Std Dev = 1.000031\n",
      "Column 16: Mean = -0.000000, Std Dev = 1.000031\n",
      "Column 17: Mean = 0.000000, Std Dev = 1.000031\n",
      "Column 18: Mean = 0.000000, Std Dev = 1.000031\n",
      "Column 19: Mean = -0.000000, Std Dev = 1.000031\n",
      "Column 20: Mean = 0.000000, Std Dev = 1.000031\n",
      "Column 21: Mean = 0.000000, Std Dev = 1.000031\n",
      "Column 22: Mean = -0.000000, Std Dev = 1.000031\n"
     ]
    }
   ],
   "source": [
    "# Fitting the scaler to the dataframes x_train and x_test\n",
    "scaler.fit(x_train, x_test)\n",
    "\n",
    "# Transforming x_train and x_test to apply standardization\n",
    "x_train_scale = scaler.transform(x_train)\n",
    "x_test_scale = scaler.transform(x_test)\n",
    "\n",
    "# Converting the scaled arrays back into dataframes so as to calculate individual means and standard deviations\n",
    "x_train_scale = pd.DataFrame(x_train_scale, columns=x_train.columns)\n",
    "x_test_scale = pd.DataFrame(x_test_scale, columns=x_test.columns)\n",
    "\n",
    "# Computing the means and the standard deviations for each column\n",
    "x_train_column_means = x_train_scale.mean(axis=0)  \n",
    "x_train_column_stds = x_train_scale.std(axis=0)   \n",
    "x_test_column_means = x_test_scale.mean(axis=0)  \n",
    "x_test_column_stds = x_test_scale.std(axis=0) \n",
    "\n",
    "# Printing the means and std devs for each column, rounding to 6 digits\n",
    "for i, (mean, std) in enumerate(zip(column_means, column_stds)):\n",
    "    print(f\"Column {i+1}: Mean = {mean:.6f}, Std Dev = {std:.6f}\")"
   ]
  },
  {
   "cell_type": "markdown",
   "id": "8a350f",
   "metadata": {
    "collapsed": false
   },
   "source": [
    "We have now verified that the means have all been scaled to nearly 0, and the standard deviations have all been scaled to nearly 1.\n",
    "\n"
   ]
  },
  {
   "cell_type": "markdown",
   "id": "aab41c",
   "metadata": {
    "collapsed": false
   },
   "source": [
    "At this point, we must diverge slightly from the learnings of Assignment 4.1, since our dataset is a regression problem rather than a classification problem.  We can still use the same principles as shown in 4.1, but for this we will first attempt to use a Support Vector Regression rather than a classifier:"
   ]
  },
  {
   "cell_type": "code",
   "execution_count": 10,
   "id": "62bff2",
   "metadata": {
    "collapsed": false
   },
   "outputs": [
    {
     "name": "stdout",
     "output_type": "stream",
     "text": [
      "71.81477735555181\n"
     ]
    }
   ],
   "source": [
    "\n",
    "# We already have these libraries imported, but since we are using them here for the first itme we'll call them out explicitly again, just for fun: \n",
    "from sklearn import svm\n",
    "from sklearn.metrics import mean_squared_error\n",
    "\n",
    "# Used Chat Gpt 4.0 mini on 3/18/25 to identify the SMV regressor:\n",
    "# Creating an SVM regressor and assigning it to clf1\n",
    "regressor1 = svm.SVR()\n",
    "\n",
    "# Fitting the SVM regressor with the training data\n",
    "regressor1.fit(x_train_scale, y_train)\n",
    "\n",
    "# Making predictions on the test data\n",
    "predictions1 = regressor1.predict(x_test_scale)\n",
    "\n",
    "# Testing predictions on the test data using mean squared error\n",
    "mse = mean_squared_error(y_test, predictions1)\n",
    "\n",
    "# Printing out the results of our prediction\n",
    "print(mse)"
   ]
  },
  {
   "cell_type": "markdown",
   "id": "c25445",
   "metadata": {
    "collapsed": false
   },
   "source": [
    "**BELOW, ATTEMPTING TO TRAIN A MODEL ON THE DATA USING THE YOUTUBE VIDEO LINKED IN THE MODULE 5 REQUIRED READINGS.**\n"
   ]
  },
  {
   "cell_type": "code",
   "execution_count": 15,
   "id": "dc864f",
   "metadata": {
    "collapsed": false
   },
   "outputs": [
   ],
   "source": [
    "#Importing the necessary Keras libraries\n",
    "from tensorflow.keras.models import Sequential\n",
    "from tensorflow.keras.layers import Dense\n",
    "from tensorflow.keras.optimizers import Adam\n",
    "from tensorflow.keras.losses import categorical_crossentropy"
   ]
  },
  {
   "cell_type": "code",
   "execution_count": 17,
   "id": "fb49a7",
   "metadata": {
    "collapsed": false
   },
   "outputs": [
   ],
   "source": [
    "# Creating a sequential model with 22 dimensions (columns) in input_shape, two hidden layers with 16 and 32 neurons respectively, and an output layer with 1 units\n",
    "\n",
    "model = Sequential([\n",
    "    Dense(16, input_shape=(22, ), activation='relu'),\n",
    "    Dense(32, activation='relu'),\n",
    "    Dense(1)\n",
    "])"
   ]
  },
  {
   "cell_type": "code",
   "execution_count": 18,
   "id": "75ee8b",
   "metadata": {
    "collapsed": false
   },
   "outputs": [
   ],
   "source": [
    "# Compiling the model, using Adam as the optimizer with a low learning rate (lr) of.0001, a loss function of mean_squared_error since its a regression, and a printed out result of mean_absolute error:\n",
    "\n",
    "model.compile(Adam(learning_rate=.0001), loss='mean_squared_error', metrics=['mean_absolute_error'])"
   ]
  },
  {
   "cell_type": "code",
   "execution_count": 19,
   "id": "c70b05",
   "metadata": {
    "collapsed": false
   },
   "outputs": [
    {
     "name": "stdout",
     "output_type": "stream",
     "text": [
      "Epoch 1/20\n"
     ]
    },
    {
     "name": "stdout",
     "output_type": "stream",
     "text": [
      "1198/1198 - 5s - 4ms/step - loss: 442387.4062 - mean_absolute_error: 663.5671\n"
     ]
    },
    {
     "name": "stdout",
     "output_type": "stream",
     "text": [
      "Epoch 2/20\n"
     ]
    },
    {
     "name": "stdout",
     "output_type": "stream",
     "text": [
      "1198/1198 - 3s - 2ms/step - loss: 417619.7500 - mean_absolute_error: 644.3141\n"
     ]
    },
    {
     "name": "stdout",
     "output_type": "stream",
     "text": [
      "Epoch 3/20\n"
     ]
    },
    {
     "name": "stdout",
     "output_type": "stream",
     "text": [
      "1198/1198 - 5s - 4ms/step - loss: 354049.3125 - mean_absolute_error: 591.2015\n"
     ]
    },
    {
     "name": "stdout",
     "output_type": "stream",
     "text": [
      "Epoch 4/20\n"
     ]
    },
    {
     "name": "stdout",
     "output_type": "stream",
     "text": [
      "1198/1198 - 3s - 2ms/step - loss: 260982.0000 - mean_absolute_error: 500.4356\n"
     ]
    },
    {
     "name": "stdout",
     "output_type": "stream",
     "text": [
      "Epoch 5/20\n"
     ]
    },
    {
     "name": "stdout",
     "output_type": "stream",
     "text": [
      "1198/1198 - 5s - 5ms/step - loss: 168162.3750 - mean_absolute_error: 386.9439\n"
     ]
    },
    {
     "name": "stdout",
     "output_type": "stream",
     "text": [
      "Epoch 6/20\n"
     ]
    },
    {
     "name": "stdout",
     "output_type": "stream",
     "text": [
      "1198/1198 - 5s - 4ms/step - loss: 102981.7422 - mean_absolute_error: 287.9888\n"
     ]
    },
    {
     "name": "stdout",
     "output_type": "stream",
     "text": [
      "Epoch 7/20\n"
     ]
    },
    {
     "name": "stdout",
     "output_type": "stream",
     "text": [
      "1198/1198 - 5s - 4ms/step - loss: 69840.7578 - mean_absolute_error: 230.1426\n"
     ]
    },
    {
     "name": "stdout",
     "output_type": "stream",
     "text": [
      "Epoch 8/20\n"
     ]
    },
    {
     "name": "stdout",
     "output_type": "stream",
     "text": [
      "1198/1198 - 3s - 2ms/step - loss: 54469.7344 - mean_absolute_error: 199.9733\n"
     ]
    },
    {
     "name": "stdout",
     "output_type": "stream",
     "text": [
      "Epoch 9/20\n"
     ]
    },
    {
     "name": "stdout",
     "output_type": "stream",
     "text": [
      "1198/1198 - 5s - 4ms/step - loss: 43782.7344 - mean_absolute_error: 177.3384\n"
     ]
    },
    {
     "name": "stdout",
     "output_type": "stream",
     "text": [
      "Epoch 10/20\n"
     ]
    },
    {
     "name": "stdout",
     "output_type": "stream",
     "text": [
      "1198/1198 - 3s - 2ms/step - loss: 34477.8672 - mean_absolute_error: 155.8815\n"
     ]
    },
    {
     "name": "stdout",
     "output_type": "stream",
     "text": [
      "Epoch 11/20\n"
     ]
    },
    {
     "name": "stdout",
     "output_type": "stream",
     "text": [
      "1198/1198 - 5s - 4ms/step - loss: 26516.5117 - mean_absolute_error: 135.1990\n"
     ]
    },
    {
     "name": "stdout",
     "output_type": "stream",
     "text": [
      "Epoch 12/20\n"
     ]
    },
    {
     "name": "stdout",
     "output_type": "stream",
     "text": [
      "1198/1198 - 3s - 2ms/step - loss: 20004.0508 - mean_absolute_error: 116.0338\n"
     ]
    },
    {
     "name": "stdout",
     "output_type": "stream",
     "text": [
      "Epoch 13/20\n"
     ]
    },
    {
     "name": "stdout",
     "output_type": "stream",
     "text": [
      "1198/1198 - 3s - 2ms/step - loss: 14913.3730 - mean_absolute_error: 99.1776\n"
     ]
    },
    {
     "name": "stdout",
     "output_type": "stream",
     "text": [
      "Epoch 14/20\n"
     ]
    },
    {
     "name": "stdout",
     "output_type": "stream",
     "text": [
      "1198/1198 - 5s - 4ms/step - loss: 11080.7246 - mean_absolute_error: 84.7409\n"
     ]
    },
    {
     "name": "stdout",
     "output_type": "stream",
     "text": [
      "Epoch 15/20\n"
     ]
    },
    {
     "name": "stdout",
     "output_type": "stream",
     "text": [
      "1198/1198 - 3s - 2ms/step - loss: 8300.2324 - mean_absolute_error: 72.8080\n"
     ]
    },
    {
     "name": "stdout",
     "output_type": "stream",
     "text": [
      "Epoch 16/20\n"
     ]
    },
    {
     "name": "stdout",
     "output_type": "stream",
     "text": [
      "1198/1198 - 5s - 4ms/step - loss: 6329.8848 - mean_absolute_error: 63.4553\n"
     ]
    },
    {
     "name": "stdout",
     "output_type": "stream",
     "text": [
      "Epoch 17/20\n"
     ]
    },
    {
     "name": "stdout",
     "output_type": "stream",
     "text": [
      "1198/1198 - 3s - 2ms/step - loss: 4944.5898 - mean_absolute_error: 55.9410\n"
     ]
    },
    {
     "name": "stdout",
     "output_type": "stream",
     "text": [
      "Epoch 18/20\n"
     ]
    },
    {
     "name": "stdout",
     "output_type": "stream",
     "text": [
      "1198/1198 - 3s - 2ms/step - loss: 3967.5613 - mean_absolute_error: 50.0719\n"
     ]
    },
    {
     "name": "stdout",
     "output_type": "stream",
     "text": [
      "Epoch 19/20\n"
     ]
    },
    {
     "name": "stdout",
     "output_type": "stream",
     "text": [
      "1198/1198 - 3s - 2ms/step - loss: 3269.2473 - mean_absolute_error: 45.4482\n"
     ]
    },
    {
     "name": "stdout",
     "output_type": "stream",
     "text": [
      "Epoch 20/20\n"
     ]
    },
    {
     "name": "stdout",
     "output_type": "stream",
     "text": [
      "1198/1198 - 5s - 4ms/step - loss: 2749.2363 - mean_absolute_error: 41.6534\n"
     ]
    },
    {
     "data": {
      "text/plain": [
       "<keras.src.callbacks.history.History at 0x7f8f1d1aaf50>"
      ]
     },
     "execution_count": 19,
     "metadata": {
     },
     "output_type": "execute_result"
    }
   ],
   "source": [
    "# Training the model by calling fit. \"Batch_size\" is how many pieces of data we want sent to the model at once, epochs=20 is how many times the data should run through the model. Shuffle=True shuffles the data each time it runs through an epoch, verbose=2 determines how much output we want to see.\n",
    "\n",
    "model.fit(x_train_scale, y_train, batch_size=10, epochs=20, shuffle=True, verbose=2)"
   ]
  }
 ],
 "metadata": {
  "kernelspec": {
   "argv": [
    "/usr/bin/python3",
    "-m",
    "ipykernel",
    "--HistoryManager.enabled=False",
    "--matplotlib=inline",
    "-c",
    "%config InlineBackend.figure_formats = set(['retina'])\nimport matplotlib; matplotlib.rcParams['figure.figsize'] = (12, 7)",
    "-f",
    "{connection_file}"
   ],
   "display_name": "Python 3 (system-wide)",
   "env": {
   },
   "language": "python",
   "metadata": {
    "cocalc": {
     "description": "Python 3 programming language",
     "priority": 100,
     "url": "https://www.python.org/"
    }
   },
   "name": "python3",
   "resource_dir": "/ext/jupyter/kernels/python3"
  },
  "language_info": {
   "codemirror_mode": {
    "name": "ipython",
    "version": 3
   },
   "file_extension": ".py",
   "mimetype": "text/x-python",
   "name": "python",
   "nbconvert_exporter": "python",
   "pygments_lexer": "ipython3",
   "version": "3.10.12"
  }
 },
 "nbformat": 4,
 "nbformat_minor": 4
}